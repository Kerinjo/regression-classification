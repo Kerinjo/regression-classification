{
 "cells": [
  {
   "cell_type": "code",
   "execution_count": 78,
   "id": "bc8ddcbb",
   "metadata": {},
   "outputs": [],
   "source": [
    "import numpy as np\n",
    "import matplotlib.pyplot as plt\n",
    "plt.style.use('seaborn-v0_8-deep')\n",
    "from math import floor"
   ]
  },
  {
   "cell_type": "code",
   "execution_count": 79,
   "id": "19defc4c",
   "metadata": {},
   "outputs": [],
   "source": [
    "with open(\"data.txt\") as f:\n",
    "    lines = f.readlines()"
   ]
  },
  {
   "cell_type": "code",
   "execution_count": 80,
   "id": "896e1e02",
   "metadata": {},
   "outputs": [],
   "source": [
    "lines = [l.rstrip().split(',') for l in lines]"
   ]
  },
  {
   "cell_type": "code",
   "execution_count": 81,
   "id": "b13d9138",
   "metadata": {},
   "outputs": [],
   "source": [
    "data = np.array(np.intc(lines))"
   ]
  },
  {
   "cell_type": "code",
   "execution_count": 82,
   "id": "a8806add",
   "metadata": {},
   "outputs": [],
   "source": [
    "size_in_feet = data[:, 0]"
   ]
  },
  {
   "cell_type": "code",
   "execution_count": 83,
   "id": "3eafe2ea",
   "metadata": {},
   "outputs": [
    {
     "data": {
      "text/plain": [
       "array([2104, 1600, 2400, 1416, 3000, 1985, 1534, 1427, 1380, 1494, 1940,\n",
       "       2000, 1890, 4478, 1268, 2300, 1320, 1236, 2609, 3031, 1767, 1888,\n",
       "       1604, 1962, 3890, 1100, 1458, 2526, 2200, 2637, 1839, 1000, 2040,\n",
       "       3137, 1811, 1437, 1239, 2132, 4215, 2162, 1664, 2238, 2567, 1200,\n",
       "        852, 1852, 1203], dtype=int32)"
      ]
     },
     "execution_count": 83,
     "metadata": {},
     "output_type": "execute_result"
    }
   ],
   "source": [
    "size_in_feet"
   ]
  },
  {
   "cell_type": "code",
   "execution_count": 84,
   "id": "216fd8e4",
   "metadata": {},
   "outputs": [],
   "source": [
    "price_in_1000 = np.array([round(arr[2]/1000, 2) for arr in data])"
   ]
  },
  {
   "cell_type": "code",
   "execution_count": 85,
   "id": "68850162",
   "metadata": {},
   "outputs": [
    {
     "data": {
      "text/plain": [
       "array([399.9, 329.9, 369. , 232. , 539.9, 299.9, 314.9, 199. , 212. ,\n",
       "       242.5, 240. , 347. , 330. , 699.9, 259.9, 449.9, 299.9, 199.9,\n",
       "       500. , 599. , 252.9, 255. , 242.9, 259.9, 573.9, 249.9, 464.5,\n",
       "       469. , 475. , 299.9, 349.9, 169.9, 314.9, 579.9, 285.9, 249.9,\n",
       "       229.9, 345. , 549. , 287. , 368.5, 329.9, 314. , 299. , 179.9,\n",
       "       299.9, 239.5])"
      ]
     },
     "execution_count": 85,
     "metadata": {},
     "output_type": "execute_result"
    }
   ],
   "source": [
    "price_in_1000"
   ]
  },
  {
   "cell_type": "code",
   "execution_count": 86,
   "id": "738e3295",
   "metadata": {},
   "outputs": [],
   "source": [
    "house_sizes_and_prices = np.array([size_in_feet, price_in_1000]).T"
   ]
  },
  {
   "cell_type": "code",
   "execution_count": 87,
   "id": "689ccf2a",
   "metadata": {
    "scrolled": true
   },
   "outputs": [
    {
     "data": {
      "image/png": "[encoded data removed]",
      "text/plain": [
       "<Figure size 640x480 with 1 Axes>"
      ]
     },
     "metadata": {},
     "output_type": "display_data"
    }
   ],
   "source": [
    "plt.scatter(house_sizes_and_prices[:, 0], house_sizes_and_prices[:, 1], c='#ff0000', marker='x')\n",
    "plt.ylabel(\"price in $1000's\")\n",
    "plt.xlabel(\"size in feet^2\")\n",
    "plt.axis([0, 5000, 0, 800])\n",
    "plt.show()"
   ]
  },
  {
   "cell_type": "markdown",
   "id": "df69a2f0",
   "metadata": {},
   "source": [
    "### Number of training examples"
   ]
  },
  {
   "cell_type": "code",
   "execution_count": 88,
   "id": "e1bd92ac",
   "metadata": {},
   "outputs": [],
   "source": [
    "data_array = np.array((size_in_feet, price_in_1000)).T"
   ]
  },
  {
   "cell_type": "code",
   "execution_count": 89,
   "id": "8e64555f",
   "metadata": {
    "scrolled": true
   },
   "outputs": [
    {
     "name": "stdout",
     "output_type": "stream",
     "text": [
      "Number of training examples is: 35\n"
     ]
    }
   ],
   "source": [
    "split = floor(data_array.shape[0] * 0.75)\n",
    "print(f\"Number of training examples is: {split}\")"
   ]
  },
  {
   "cell_type": "code",
   "execution_count": 90,
   "id": "0ee6a96a",
   "metadata": {},
   "outputs": [
    {
     "data": {
      "text/plain": [
       "array([2104., 1600., 2400., 1416., 3000., 1985., 1534., 1427., 1380.,\n",
       "       1494., 1940., 2000., 1890., 4478., 1268., 2300., 1320., 1236.,\n",
       "       2609., 3031., 1767., 1888., 1604., 1962., 3890., 1100., 1458.,\n",
       "       2526., 2200., 2637., 1839., 1000., 2040., 3137., 1811., 1437.,\n",
       "       1239., 2132., 4215., 2162., 1664., 2238., 2567., 1200.,  852.,\n",
       "       1852., 1203.])"
      ]
     },
     "execution_count": 90,
     "metadata": {},
     "output_type": "execute_result"
    }
   ],
   "source": [
    "data_array[:, 0]"
   ]
  },
  {
   "cell_type": "code",
   "execution_count": 91,
   "id": "070d1187",
   "metadata": {},
   "outputs": [
    {
     "data": {
      "text/plain": [
       "array([399.9, 329.9, 369. , 232. , 539.9, 299.9, 314.9, 199. , 212. ,\n",
       "       242.5, 240. , 347. , 330. , 699.9, 259.9, 449.9, 299.9, 199.9,\n",
       "       500. , 599. , 252.9, 255. , 242.9, 259.9, 573.9, 249.9, 464.5,\n",
       "       469. , 475. , 299.9, 349.9, 169.9, 314.9, 579.9, 285.9, 249.9,\n",
       "       229.9, 345. , 549. , 287. , 368.5, 329.9, 314. , 299. , 179.9,\n",
       "       299.9, 239.5])"
      ]
     },
     "execution_count": 91,
     "metadata": {},
     "output_type": "execute_result"
    }
   ],
   "source": [
    "data_array[:, 1]"
   ]
  },
  {
   "cell_type": "code",
   "execution_count": 92,
   "id": "61296257",
   "metadata": {},
   "outputs": [],
   "source": [
    "np.random.shuffle(data_array)\n",
    "x_train, x_test = data_array[:, 0][:split], data_array[:, 0][split:]\n",
    "y_train, y_test = data_array[:, 1][:split], data_array[:, 1][split:]"
   ]
  },
  {
   "cell_type": "code",
   "execution_count": 93,
   "id": "7ee98471",
   "metadata": {
    "scrolled": true
   },
   "outputs": [
    {
     "name": "stdout",
     "output_type": "stream",
     "text": [
      "x_train.shape: (35,)\n"
     ]
    }
   ],
   "source": [
    "print(f\"x_train.shape: {x_train.shape}\")"
   ]
  },
  {
   "cell_type": "markdown",
   "id": "b239b935",
   "metadata": {},
   "source": [
    "### Training example `x_i, y_i`"
   ]
  },
  {
   "cell_type": "code",
   "execution_count": 94,
   "id": "e868af46",
   "metadata": {},
   "outputs": [
    {
     "name": "stdout",
     "output_type": "stream",
     "text": [
      "(x^(16), y^(16)) = (2400.0, 369.0)\n"
     ]
    }
   ],
   "source": [
    "i = 16\n",
    "\n",
    "x_i = x_train[i]\n",
    "y_i = y_train[i]\n",
    "print(f\"(x^({i}), y^({i})) = ({x_i}, {y_i})\")"
   ]
  },
  {
   "cell_type": "markdown",
   "id": "7b009bc4",
   "metadata": {},
   "source": [
    "### Plotting the data"
   ]
  },
  {
   "cell_type": "code",
   "execution_count": 97,
   "id": "cabd4a85",
   "metadata": {},
   "outputs": [
    {
     "data": {
      "image/png": "[encoded data removed]",
      "text/plain": [
       "<Figure size 640x480 with 1 Axes>"
      ]
     },
     "metadata": {},
     "output_type": "display_data"
    }
   ],
   "source": [
    "plt.scatter(x_train, y_train, marker='x', c='r')\n",
    "plt.ylabel(\"price in $1000's\")\n",
    "plt.xlabel(\"size in feet^2\")\n",
    "plt.axis([0, 5000, 0, 800])\n",
    "plt.show()"
   ]
  },
  {
   "cell_type": "code",
   "execution_count": null,
   "id": "78d5682b",
   "metadata": {},
   "outputs": [],
   "source": []
  }
 ],
 "metadata": {
  "kernelspec": {
   "display_name": "Python 3 (ipykernel)",
   "language": "python",
   "name": "python3"
  },
  "language_info": {
   "codemirror_mode": {
    "name": "ipython",
    "version": 3
   },
   "file_extension": ".py",
   "mimetype": "text/x-python",
   "name": "python",
   "nbconvert_exporter": "python",
   "pygments_lexer": "ipython3",
   "version": "3.11.0"
  }
 },
 "nbformat": 4,
 "nbformat_minor": 5
}
