{
 "cells": [
  {
   "cell_type": "code",
   "execution_count": 27,
   "id": "bc8ddcbb",
   "metadata": {},
   "outputs": [],
   "source": [
    "import numpy as np\n",
    "import matplotlib.pyplot as plt\n",
    "plt.style.use('seaborn-v0_8-deep')\n",
    "import math"
   ]
  },
  {
   "cell_type": "code",
   "execution_count": 2,
   "id": "19defc4c",
   "metadata": {},
   "outputs": [],
   "source": [
    "with open(\"data.txt\") as f:\n",
    "    lines = f.readlines()"
   ]
  },
  {
   "cell_type": "code",
   "execution_count": 3,
   "id": "896e1e02",
   "metadata": {},
   "outputs": [],
   "source": [
    "lines = [l.rstrip().split(',') for l in lines]"
   ]
  },
  {
   "cell_type": "code",
   "execution_count": 4,
   "id": "b13d9138",
   "metadata": {},
   "outputs": [],
   "source": [
    "data = np.array(np.intc(lines))"
   ]
  },
  {
   "cell_type": "code",
   "execution_count": 5,
   "id": "a8806add",
   "metadata": {},
   "outputs": [],
   "source": [
    "size_in_feet = data[:, 0]"
   ]
  },
  {
   "cell_type": "code",
   "execution_count": 6,
   "id": "3eafe2ea",
   "metadata": {},
   "outputs": [
    {
     "data": {
      "text/plain": [
       "array([2104, 1600, 2400, 1416, 3000, 1985, 1534, 1427, 1380, 1494, 1940,\n",
       "       2000, 1890, 4478, 1268, 2300, 1320, 1236, 2609, 3031, 1767, 1888,\n",
       "       1604, 1962, 3890, 1100, 1458, 2526, 2200, 2637, 1839, 1000, 2040,\n",
       "       3137, 1811, 1437, 1239, 2132, 4215, 2162, 1664, 2238, 2567, 1200,\n",
       "        852, 1852, 1203], dtype=int32)"
      ]
     },
     "execution_count": 6,
     "metadata": {},
     "output_type": "execute_result"
    }
   ],
   "source": [
    "size_in_feet"
   ]
  },
  {
   "cell_type": "code",
   "execution_count": 7,
   "id": "216fd8e4",
   "metadata": {},
   "outputs": [],
   "source": [
    "price_in_1000 = np.array([round(arr[2]/1000, 2) for arr in data])"
   ]
  },
  {
   "cell_type": "code",
   "execution_count": 8,
   "id": "68850162",
   "metadata": {},
   "outputs": [
    {
     "data": {
      "text/plain": [
       "array([399.9, 329.9, 369. , 232. , 539.9, 299.9, 314.9, 199. , 212. ,\n",
       "       242.5, 240. , 347. , 330. , 699.9, 259.9, 449.9, 299.9, 199.9,\n",
       "       500. , 599. , 252.9, 255. , 242.9, 259.9, 573.9, 249.9, 464.5,\n",
       "       469. , 475. , 299.9, 349.9, 169.9, 314.9, 579.9, 285.9, 249.9,\n",
       "       229.9, 345. , 549. , 287. , 368.5, 329.9, 314. , 299. , 179.9,\n",
       "       299.9, 239.5])"
      ]
     },
     "execution_count": 8,
     "metadata": {},
     "output_type": "execute_result"
    }
   ],
   "source": [
    "price_in_1000"
   ]
  },
  {
   "cell_type": "code",
   "execution_count": 9,
   "id": "738e3295",
   "metadata": {},
   "outputs": [],
   "source": [
    "house_sizes_and_prices = np.array([size_in_feet, price_in_1000]).T"
   ]
  },
  {
   "cell_type": "code",
   "execution_count": 10,
   "id": "689ccf2a",
   "metadata": {
    "scrolled": true
   },
   "outputs": [
    {
     "data": {
      "image/png": "[encoded data removed]",
      "text/plain": [
       "<Figure size 640x480 with 1 Axes>"
      ]
     },
     "metadata": {},
     "output_type": "display_data"
    }
   ],
   "source": [
    "plt.scatter(house_sizes_and_prices[:, 0], house_sizes_and_prices[:, 1], c='#ff0000', marker='x')\n",
    "plt.ylabel(\"price in $1000's\")\n",
    "plt.xlabel(\"size in feet^2\")\n",
    "plt.axis([0, 5000, 0, 800])\n",
    "plt.show()"
   ]
  },
  {
   "cell_type": "code",
   "execution_count": null,
   "id": "b0d9a2b1",
   "metadata": {},
   "outputs": [],
   "source": []
  },
  {
   "cell_type": "markdown",
   "id": "8dd32049",
   "metadata": {},
   "source": [
    "### Number of training examples"
   ]
  },
  {
   "cell_type": "code",
   "execution_count": 11,
   "id": "4511a2e5",
   "metadata": {},
   "outputs": [],
   "source": [
    "data_array = np.array((size_in_feet, price_in_1000)).T"
   ]
  },
  {
   "cell_type": "code",
   "execution_count": 28,
   "id": "8e64555f",
   "metadata": {
    "scrolled": true
   },
   "outputs": [
    {
     "name": "stdout",
     "output_type": "stream",
     "text": [
      "Number of training examples is: 35\n"
     ]
    }
   ],
   "source": [
    "split = math.floor(data_array.shape[0] * 0.75)\n",
    "print(f\"Number of training examples is: {split}\")"
   ]
  },
  {
   "cell_type": "code",
   "execution_count": 13,
   "id": "40d7f621",
   "metadata": {},
   "outputs": [
    {
     "data": {
      "text/plain": [
       "array([2104., 1600., 2400., 1416., 3000., 1985., 1534., 1427., 1380.,\n",
       "       1494., 1940., 2000., 1890., 4478., 1268., 2300., 1320., 1236.,\n",
       "       2609., 3031., 1767., 1888., 1604., 1962., 3890., 1100., 1458.,\n",
       "       2526., 2200., 2637., 1839., 1000., 2040., 3137., 1811., 1437.,\n",
       "       1239., 2132., 4215., 2162., 1664., 2238., 2567., 1200.,  852.,\n",
       "       1852., 1203.])"
      ]
     },
     "execution_count": 13,
     "metadata": {},
     "output_type": "execute_result"
    }
   ],
   "source": [
    "data_array[:, 0]"
   ]
  },
  {
   "cell_type": "code",
   "execution_count": 14,
   "id": "77b5acc9",
   "metadata": {},
   "outputs": [
    {
     "data": {
      "text/plain": [
       "array([399.9, 329.9, 369. , 232. , 539.9, 299.9, 314.9, 199. , 212. ,\n",
       "       242.5, 240. , 347. , 330. , 699.9, 259.9, 449.9, 299.9, 199.9,\n",
       "       500. , 599. , 252.9, 255. , 242.9, 259.9, 573.9, 249.9, 464.5,\n",
       "       469. , 475. , 299.9, 349.9, 169.9, 314.9, 579.9, 285.9, 249.9,\n",
       "       229.9, 345. , 549. , 287. , 368.5, 329.9, 314. , 299. , 179.9,\n",
       "       299.9, 239.5])"
      ]
     },
     "execution_count": 14,
     "metadata": {},
     "output_type": "execute_result"
    }
   ],
   "source": [
    "data_array[:, 1]"
   ]
  },
  {
   "cell_type": "code",
   "execution_count": 15,
   "id": "61296257",
   "metadata": {},
   "outputs": [],
   "source": [
    "np.random.shuffle(data_array)\n",
    "x_train, x_test = data_array[:, 0][:split], data_array[:, 0][split:]\n",
    "y_train, y_test = data_array[:, 1][:split], data_array[:, 1][split:]"
   ]
  },
  {
   "cell_type": "code",
   "execution_count": 16,
   "id": "83eadfa7",
   "metadata": {
    "scrolled": true
   },
   "outputs": [
    {
     "name": "stdout",
     "output_type": "stream",
     "text": [
      "x_train.shape: (35,)\n"
     ]
    }
   ],
   "source": [
    "print(f\"x_train.shape: {x_train.shape}\")"
   ]
  },
  {
   "cell_type": "markdown",
   "id": "81612f58",
   "metadata": {},
   "source": [
    "### Training example `x_i, y_i`"
   ]
  },
  {
   "cell_type": "code",
   "execution_count": 17,
   "id": "191b9e8b",
   "metadata": {},
   "outputs": [
    {
     "name": "stdout",
     "output_type": "stream",
     "text": [
      "(x^(16), y^(16)) = (1427.0, 199.0)\n"
     ]
    }
   ],
   "source": [
    "i = 16\n",
    "\n",
    "x_i = x_train[i]\n",
    "y_i = y_train[i]\n",
    "print(f\"(x^({i}), y^({i})) = ({x_i}, {y_i})\")"
   ]
  },
  {
   "cell_type": "markdown",
   "id": "6a64a2db",
   "metadata": {},
   "source": [
    "### Plotting the data"
   ]
  },
  {
   "cell_type": "code",
   "execution_count": 18,
   "id": "f9e01994",
   "metadata": {},
   "outputs": [
    {
     "data": {
      "image/png": "[encoded data removed]",
      "text/plain": [
       "<Figure size 640x480 with 1 Axes>"
      ]
     },
     "metadata": {},
     "output_type": "display_data"
    }
   ],
   "source": [
    "plt.scatter(x_train, y_train, marker='x', c='r')\n",
    "plt.ylabel(\"price in $1000's\")\n",
    "plt.xlabel(\"size in feet^2\")\n",
    "plt.axis([0, 5000, 0, 800])\n",
    "plt.show()"
   ]
  },
  {
   "cell_type": "markdown",
   "id": "f1b39512",
   "metadata": {},
   "source": [
    "### Model function"
   ]
  },
  {
   "cell_type": "code",
   "execution_count": 19,
   "id": "c1a068e1",
   "metadata": {},
   "outputs": [
    {
     "name": "stdout",
     "output_type": "stream",
     "text": [
      "w: 0.06\n",
      "b: 50\n"
     ]
    }
   ],
   "source": [
    "w = 0.06\n",
    "b = 50\n",
    "print(f\"w: {w}\")\n",
    "print(f\"b: {b}\")"
   ]
  },
  {
   "cell_type": "code",
   "execution_count": 20,
   "id": "e34f619d",
   "metadata": {},
   "outputs": [],
   "source": [
    "def compute_model_output(x, w, b):\n",
    "    \"\"\"\n",
    "    Computer the prediction of a linear model\n",
    "    Args:\n",
    "        x (ndarray (m,)): Data, m examples\n",
    "        w,b (scalar)    : model parameters\n",
    "    Returns\n",
    "        y (ndarray (m,)): target values\n",
    "    \"\"\"\n",
    "    m = x.shape[0]\n",
    "    f_wb = np.zeros(m)\n",
    "    for i in range(m):\n",
    "        f_wb[i] = w * x[i] + b\n",
    "    \n",
    "    return f_wb"
   ]
  },
  {
   "cell_type": "code",
   "execution_count": 21,
   "id": "c1a407cc",
   "metadata": {},
   "outputs": [
    {
     "data": {
      "image/png": "[encoded data removed]",
      "text/plain": [
       "<Figure size 640x480 with 1 Axes>"
      ]
     },
     "metadata": {},
     "output_type": "display_data"
    }
   ],
   "source": [
    "tmp_f_wb = compute_model_output(x_train, w, b)\n",
    "\n",
    "plt.plot(x_train, tmp_f_wb, c='b', label='Prediction')\n",
    "plt.scatter(x_train, y_train, marker='x', c='r', label='Actual Values')\n",
    "plt.title(\"Housing Prices\")\n",
    "plt.ylabel(\"price in $1000's\")\n",
    "plt.xlabel(\"size in feet^2\")\n",
    "plt.legend()\n",
    "plt.show()"
   ]
  },
  {
   "cell_type": "markdown",
   "id": "7ff1f2dd",
   "metadata": {},
   "source": [
    "### Computing cost"
   ]
  },
  {
   "cell_type": "markdown",
   "id": "cadcbe46",
   "metadata": {},
   "source": [
    "The equation for cost with one variable is:\n",
    "  $$J(w,b) = \\frac{1}{2m}\\sum\\limits_{i = 0}^{m-1} (f_{w,b}(x^{(i)}) - y^{(i)})^2$$"
   ]
  },
  {
   "cell_type": "code",
   "execution_count": 25,
   "id": "2a2df092",
   "metadata": {},
   "outputs": [],
   "source": [
    " def compute_cost(x, y, w, b):\n",
    "    \"\"\"\n",
    "    Computer the cost function for linear regression.\n",
    "\n",
    "    Args:\n",
    "      x (ndarray (m,)): Data, m examples\n",
    "      y (ndarray (m,)): target values)\n",
    "      w, b (scalar)   : model parameters\n",
    "\n",
    "    Returns\n",
    "        total_cost (float): The cost of using w,b as the parameters for linear regression\n",
    "                to fit the data points in x and y\n",
    "    \"\"\"\n",
    "    m = x.shape[0]\n",
    "\n",
    "    cost_sum = 0\n",
    "    for i in range(m):\n",
    "        f_wb = w * x[i] + b\n",
    "        cost = (f_wb - y[i]) ** 2\n",
    "        cost_sum += cost\n",
    "    total_cost = (1 / (2 * m)) * cost_sum\n",
    "\n",
    "    return total_cost"
   ]
  },
  {
   "cell_type": "markdown",
   "id": "10672ce3",
   "metadata": {},
   "source": [
    "### Gradient descent"
   ]
  },
  {
   "cell_type": "markdown",
   "id": "b9787478",
   "metadata": {},
   "source": [
    "\n",
    "Repeat until convergence:\n",
    "$$ w_{new} = w - \\alpha\\frac{d}{dw}J(w, b) $$\n",
    "$$ b_{new} = b - \\alpha\\frac{d}{db}J(w, b) $$\n",
    ", where\n",
    "$$ \\frac{dJ(w,b)}{dw} = \\frac{1}{m}\\sum\\limits_{i=0}^{m-1}(f_{w,b}(x^{(i)})-y^{(i)})x^{(i)} $$\n",
    "$$ \\frac{dJ(w,b)}{db} = \\frac{1}{m}\\sum\\limits_{i=0}^{m-1}(f_{w,b}(x^{(i)})-y^{(i)}) $$\n",
    "and $\\alpha$ is the learning rate."
   ]
  },
  {
   "cell_type": "code",
   "execution_count": 29,
   "id": "c684400e",
   "metadata": {},
   "outputs": [
    {
     "data": {
      "text/plain": [
       "(array([1664., 1239., 1320., 2200., 4215., 2040., 1416., 2300., 2567.,\n",
       "        1839., 2637., 1437., 3000., 1200., 1100., 1962., 1427., 1888.,\n",
       "        2238., 1458., 1494., 1940., 2526., 1767., 3890.,  852., 2609.,\n",
       "        1000., 4478., 2132., 2162., 1852., 3031., 1600., 1890.]),\n",
       " array([368.5, 229.9, 299.9, 475. , 549. , 314.9, 232. , 449.9, 314. ,\n",
       "        349.9, 299.9, 249.9, 539.9, 299. , 249.9, 259.9, 199. , 255. ,\n",
       "        329.9, 464.5, 242.5, 240. , 469. , 252.9, 573.9, 179.9, 500. ,\n",
       "        169.9, 699.9, 345. , 287. , 299.9, 599. , 329.9, 330. ]))"
      ]
     },
     "execution_count": 29,
     "metadata": {},
     "output_type": "execute_result"
    }
   ],
   "source": [
    "x_train, y_train"
   ]
  },
  {
   "cell_type": "code",
   "execution_count": null,
   "id": "6143246d",
   "metadata": {},
   "outputs": [],
   "source": []
  }
 ],
 "metadata": {
  "kernelspec": {
   "display_name": "Python 3 (ipykernel)",
   "language": "python",
   "name": "python3"
  },
  "language_info": {
   "codemirror_mode": {
    "name": "ipython",
    "version": 3
   },
   "file_extension": ".py",
   "mimetype": "text/x-python",
   "name": "python",
   "nbconvert_exporter": "python",
   "pygments_lexer": "ipython3",
   "version": "3.11.0"
  }
 },
 "nbformat": 4,
 "nbformat_minor": 5
}
